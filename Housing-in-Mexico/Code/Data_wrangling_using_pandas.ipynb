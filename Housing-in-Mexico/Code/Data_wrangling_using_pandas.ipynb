{
 "cells": [
  {
   "cell_type": "code",
   "execution_count": 1,
   "id": "initial_id",
   "metadata": {
    "collapsed": true,
    "ExecuteTime": {
     "end_time": "2023-09-22T06:17:24.233544Z",
     "start_time": "2023-09-22T06:17:23.468260700Z"
    }
   },
   "outputs": [],
   "source": [
    "import pandas as pd\n",
    "import os\n"
   ]
  },
  {
   "cell_type": "markdown",
   "source": [
    "Read these three files into three separate DataFrames named df1, df2, and df3, respectively."
   ],
   "metadata": {
    "collapsed": false
   },
   "id": "2e93df281581de50"
  },
  {
   "cell_type": "code",
   "execution_count": 2,
   "outputs": [
    {
     "name": "stdout",
     "output_type": "stream",
     "text": [
      "D:\\OneDrive\\DS_Projects\\Housing-in-Mexico\\Code\n"
     ]
    }
   ],
   "source": [
    "print(os.getcwd())"
   ],
   "metadata": {
    "collapsed": false,
    "ExecuteTime": {
     "end_time": "2023-09-22T06:17:24.248759200Z",
     "start_time": "2023-09-22T06:17:24.238543700Z"
    }
   },
   "id": "b077cc5df043d7e0"
  },
  {
   "cell_type": "markdown",
   "source": [
    "# Clean df1"
   ],
   "metadata": {
    "collapsed": false
   },
   "id": "2d5ac8d62745a3ce"
  },
  {
   "cell_type": "code",
   "execution_count": 11,
   "outputs": [],
   "source": [
    "\n",
    "file_1 = \"D:\\OneDrive\\DS_Projects\\Housing-in-Mexico\\Code\\mexico-real-estate-1.csv\""
   ],
   "metadata": {
    "collapsed": false,
    "ExecuteTime": {
     "end_time": "2023-09-21T06:25:47.429798600Z",
     "start_time": "2023-09-21T06:25:47.417527200Z"
    }
   },
   "id": "c772ac5b26d6e509"
  },
  {
   "cell_type": "code",
   "execution_count": 11,
   "outputs": [],
   "source": [],
   "metadata": {
    "collapsed": false,
    "ExecuteTime": {
     "end_time": "2023-09-21T06:25:47.905268900Z",
     "start_time": "2023-09-21T06:25:47.880931Z"
    }
   },
   "id": "2affe59b8733f4a0"
  },
  {
   "cell_type": "code",
   "execution_count": 12,
   "outputs": [],
   "source": [
    "df1 = pd.read_csv(file_1 , encoding='iso-8859-1')"
   ],
   "metadata": {
    "collapsed": false,
    "ExecuteTime": {
     "end_time": "2023-09-21T06:25:50.798713800Z",
     "start_time": "2023-09-21T06:25:50.771145400Z"
    }
   },
   "id": "b493682f1cc1fe12"
  },
  {
   "cell_type": "code",
   "execution_count": 13,
   "outputs": [
    {
     "data": {
      "text/plain": "(700, 1)"
     },
     "execution_count": 13,
     "metadata": {},
     "output_type": "execute_result"
    }
   ],
   "source": [
    "# finding total rows and columns\n",
    "df1.shape"
   ],
   "metadata": {
    "collapsed": false,
    "ExecuteTime": {
     "end_time": "2023-09-21T06:25:51.170443800Z",
     "start_time": "2023-09-21T06:25:51.154909400Z"
    }
   },
   "id": "5b71c3611963457d"
  },
  {
   "cell_type": "code",
   "execution_count": 14,
   "outputs": [
    {
     "name": "stdout",
     "output_type": "stream",
     "text": [
      "<class 'pandas.core.frame.DataFrame'>\n",
      "RangeIndex: 700 entries, 0 to 699\n",
      "Data columns (total 1 columns):\n",
      " #   Column                                         Non-Null Count  Dtype \n",
      "---  ------                                         --------------  ----- \n",
      " 0   property_type,state,lat,lon,area_m2,price_usd  700 non-null    object\n",
      "dtypes: object(1)\n",
      "memory usage: 5.6+ KB\n"
     ]
    }
   ],
   "source": [
    "df1.info(10)"
   ],
   "metadata": {
    "collapsed": false,
    "ExecuteTime": {
     "end_time": "2023-09-21T06:25:51.873919200Z",
     "start_time": "2023-09-21T06:25:51.848161600Z"
    }
   },
   "id": "8df15221c9923d96"
  },
  {
   "cell_type": "code",
   "execution_count": 15,
   "outputs": [
    {
     "data": {
      "text/plain": "       property_type,state,lat,lon,area_m2,price_usd\n0  house,Estado de México,19.560181,-99.233528,15...\n1  house,Nuevo León,25.6884355,-100.1988071,186.0...\n2  apartment,Guerrero,16.767704,-99.764383,82.0,\"...\n3  apartment,Guerrero,16.829782,-99.911012,150.0,...\n4  house,Veracruz de Ignacio de la Llave,,,175.0,...",
      "text/html": "<div>\n<style scoped>\n    .dataframe tbody tr th:only-of-type {\n        vertical-align: middle;\n    }\n\n    .dataframe tbody tr th {\n        vertical-align: top;\n    }\n\n    .dataframe thead th {\n        text-align: right;\n    }\n</style>\n<table border=\"1\" class=\"dataframe\">\n  <thead>\n    <tr style=\"text-align: right;\">\n      <th></th>\n      <th>property_type,state,lat,lon,area_m2,price_usd</th>\n    </tr>\n  </thead>\n  <tbody>\n    <tr>\n      <th>0</th>\n      <td>house,Estado de México,19.560181,-99.233528,15...</td>\n    </tr>\n    <tr>\n      <th>1</th>\n      <td>house,Nuevo León,25.6884355,-100.1988071,186.0...</td>\n    </tr>\n    <tr>\n      <th>2</th>\n      <td>apartment,Guerrero,16.767704,-99.764383,82.0,\"...</td>\n    </tr>\n    <tr>\n      <th>3</th>\n      <td>apartment,Guerrero,16.829782,-99.911012,150.0,...</td>\n    </tr>\n    <tr>\n      <th>4</th>\n      <td>house,Veracruz de Ignacio de la Llave,,,175.0,...</td>\n    </tr>\n  </tbody>\n</table>\n</div>"
     },
     "execution_count": 15,
     "metadata": {},
     "output_type": "execute_result"
    }
   ],
   "source": [
    "df1.head()"
   ],
   "metadata": {
    "collapsed": false,
    "ExecuteTime": {
     "end_time": "2023-09-21T06:25:52.689568300Z",
     "start_time": "2023-09-21T06:25:52.659930500Z"
    }
   },
   "id": "df1ffe2b41652066"
  },
  {
   "cell_type": "code",
   "execution_count": 16,
   "outputs": [
    {
     "ename": "ValueError",
     "evalue": "Columns must be same length as key",
     "output_type": "error",
     "traceback": [
      "\u001B[1;31m---------------------------------------------------------------------------\u001B[0m",
      "\u001B[1;31mValueError\u001B[0m                                Traceback (most recent call last)",
      "Cell \u001B[1;32mIn[16], line 1\u001B[0m\n\u001B[1;32m----> 1\u001B[0m df1[[\u001B[38;5;124m\"\u001B[39m\u001B[38;5;124mproperty_type\u001B[39m\u001B[38;5;124m\"\u001B[39m,\u001B[38;5;124m\"\u001B[39m\u001B[38;5;124mstate\u001B[39m\u001B[38;5;124m\"\u001B[39m,\u001B[38;5;124m\"\u001B[39m\u001B[38;5;124mlat\u001B[39m\u001B[38;5;124m\"\u001B[39m,\u001B[38;5;124m\"\u001B[39m\u001B[38;5;124mlon\u001B[39m\u001B[38;5;124m\"\u001B[39m,\u001B[38;5;124m\"\u001B[39m\u001B[38;5;124marea_m2\u001B[39m\u001B[38;5;124m\"\u001B[39m,\u001B[38;5;124m\"\u001B[39m\u001B[38;5;124mprice_usd\u001B[39m\u001B[38;5;124m\"\u001B[39m]] \u001B[38;5;241m=\u001B[39m df1[\u001B[38;5;124m\"\u001B[39m\u001B[38;5;124mproperty_type,state,lat,lon,area_m2,price_usd\u001B[39m\u001B[38;5;124m\"\u001B[39m]\u001B[38;5;241m.\u001B[39mstr\u001B[38;5;241m.\u001B[39msplit(\u001B[38;5;124m\"\u001B[39m\u001B[38;5;124m,\u001B[39m\u001B[38;5;124m\"\u001B[39m, expand \u001B[38;5;241m=\u001B[39m \u001B[38;5;28;01mTrue\u001B[39;00m)\n\u001B[0;32m      2\u001B[0m df1\u001B[38;5;241m.\u001B[39mhead()\n",
      "File \u001B[1;32m~\\anaconda3\\envs\\DS_Projects\\Lib\\site-packages\\pandas\\core\\frame.py:3938\u001B[0m, in \u001B[0;36mDataFrame.__setitem__\u001B[1;34m(self, key, value)\u001B[0m\n\u001B[0;32m   3936\u001B[0m     \u001B[38;5;28mself\u001B[39m\u001B[38;5;241m.\u001B[39m_setitem_frame(key, value)\n\u001B[0;32m   3937\u001B[0m \u001B[38;5;28;01melif\u001B[39;00m \u001B[38;5;28misinstance\u001B[39m(key, (Series, np\u001B[38;5;241m.\u001B[39mndarray, \u001B[38;5;28mlist\u001B[39m, Index)):\n\u001B[1;32m-> 3938\u001B[0m     \u001B[38;5;28mself\u001B[39m\u001B[38;5;241m.\u001B[39m_setitem_array(key, value)\n\u001B[0;32m   3939\u001B[0m \u001B[38;5;28;01melif\u001B[39;00m \u001B[38;5;28misinstance\u001B[39m(value, DataFrame):\n\u001B[0;32m   3940\u001B[0m     \u001B[38;5;28mself\u001B[39m\u001B[38;5;241m.\u001B[39m_set_item_frame_value(key, value)\n",
      "File \u001B[1;32m~\\anaconda3\\envs\\DS_Projects\\Lib\\site-packages\\pandas\\core\\frame.py:3980\u001B[0m, in \u001B[0;36mDataFrame._setitem_array\u001B[1;34m(self, key, value)\u001B[0m\n\u001B[0;32m   3975\u001B[0m \u001B[38;5;28;01melse\u001B[39;00m:\n\u001B[0;32m   3976\u001B[0m     \u001B[38;5;66;03m# Note: unlike self.iloc[:, indexer] = value, this will\u001B[39;00m\n\u001B[0;32m   3977\u001B[0m     \u001B[38;5;66;03m#  never try to overwrite values inplace\u001B[39;00m\n\u001B[0;32m   3979\u001B[0m     \u001B[38;5;28;01mif\u001B[39;00m \u001B[38;5;28misinstance\u001B[39m(value, DataFrame):\n\u001B[1;32m-> 3980\u001B[0m         check_key_length(\u001B[38;5;28mself\u001B[39m\u001B[38;5;241m.\u001B[39mcolumns, key, value)\n\u001B[0;32m   3981\u001B[0m         \u001B[38;5;28;01mfor\u001B[39;00m k1, k2 \u001B[38;5;129;01min\u001B[39;00m \u001B[38;5;28mzip\u001B[39m(key, value\u001B[38;5;241m.\u001B[39mcolumns):\n\u001B[0;32m   3982\u001B[0m             \u001B[38;5;28mself\u001B[39m[k1] \u001B[38;5;241m=\u001B[39m value[k2]\n",
      "File \u001B[1;32m~\\anaconda3\\envs\\DS_Projects\\Lib\\site-packages\\pandas\\core\\indexers\\utils.py:392\u001B[0m, in \u001B[0;36mcheck_key_length\u001B[1;34m(columns, key, value)\u001B[0m\n\u001B[0;32m    390\u001B[0m \u001B[38;5;28;01mif\u001B[39;00m columns\u001B[38;5;241m.\u001B[39mis_unique:\n\u001B[0;32m    391\u001B[0m     \u001B[38;5;28;01mif\u001B[39;00m \u001B[38;5;28mlen\u001B[39m(value\u001B[38;5;241m.\u001B[39mcolumns) \u001B[38;5;241m!=\u001B[39m \u001B[38;5;28mlen\u001B[39m(key):\n\u001B[1;32m--> 392\u001B[0m         \u001B[38;5;28;01mraise\u001B[39;00m \u001B[38;5;167;01mValueError\u001B[39;00m(\u001B[38;5;124m\"\u001B[39m\u001B[38;5;124mColumns must be same length as key\u001B[39m\u001B[38;5;124m\"\u001B[39m)\n\u001B[0;32m    393\u001B[0m \u001B[38;5;28;01melse\u001B[39;00m:\n\u001B[0;32m    394\u001B[0m     \u001B[38;5;66;03m# Missing keys in columns are represented as -1\u001B[39;00m\n\u001B[0;32m    395\u001B[0m     \u001B[38;5;28;01mif\u001B[39;00m \u001B[38;5;28mlen\u001B[39m(columns\u001B[38;5;241m.\u001B[39mget_indexer_non_unique(key)[\u001B[38;5;241m0\u001B[39m]) \u001B[38;5;241m!=\u001B[39m \u001B[38;5;28mlen\u001B[39m(value\u001B[38;5;241m.\u001B[39mcolumns):\n",
      "\u001B[1;31mValueError\u001B[0m: Columns must be same length as key"
     ]
    }
   ],
   "source": [
    "df1[[\"property_type\",\"state\",\"lat\",\"lon\",\"area_m2\",\"price_usd\"]] = df1[\"property_type,state,lat,lon,area_m2,price_usd\"].str.split(\",\", expand = True)"
   ],
   "metadata": {
    "collapsed": false,
    "ExecuteTime": {
     "end_time": "2023-09-21T06:25:53.221014900Z",
     "start_time": "2023-09-21T06:25:53.112458500Z"
    }
   },
   "id": "b77c5a3c422b0ac"
  },
  {
   "cell_type": "code",
   "execution_count": 21,
   "outputs": [
    {
     "name": "stdout",
     "output_type": "stream",
     "text": [
      "Collecting openpyxl\n",
      "  Downloading openpyxl-3.1.2-py2.py3-none-any.whl (249 kB)\n",
      "     ---------------------------------------- 0.0/250.0 kB ? eta -:--:--\n",
      "     ---- ---------------------------------- 30.7/250.0 kB 1.4 MB/s eta 0:00:01\n",
      "     --------- --------------------------- 61.4/250.0 kB 656.4 kB/s eta 0:00:01\n",
      "     ----------------- ------------------ 122.9/250.0 kB 901.1 kB/s eta 0:00:01\n",
      "     ------------------------ ------------- 163.8/250.0 kB 1.1 MB/s eta 0:00:01\n",
      "     ------------------------ ------------- 163.8/250.0 kB 1.1 MB/s eta 0:00:01\n",
      "     ------------------------ ------------- 163.8/250.0 kB 1.1 MB/s eta 0:00:01\n",
      "     ------------------------ ------------- 163.8/250.0 kB 1.1 MB/s eta 0:00:01\n",
      "     ------------------------ ------------- 163.8/250.0 kB 1.1 MB/s eta 0:00:01\n",
      "     ------------------------ ------------- 163.8/250.0 kB 1.1 MB/s eta 0:00:01\n",
      "     ------------------------ ------------- 163.8/250.0 kB 1.1 MB/s eta 0:00:01\n",
      "     ------------------------ ------------- 163.8/250.0 kB 1.1 MB/s eta 0:00:01\n",
      "     -----------------------------------  245.8/250.0 kB 457.3 kB/s eta 0:00:01\n",
      "     ------------------------------------ 250.0/250.0 kB 426.6 kB/s eta 0:00:00\n",
      "Collecting et-xmlfile (from openpyxl)\n",
      "  Downloading et_xmlfile-1.1.0-py3-none-any.whl (4.7 kB)\n",
      "Installing collected packages: et-xmlfile, openpyxl\n",
      "Successfully installed et-xmlfile-1.1.0 openpyxl-3.1.2\n"
     ]
    }
   ],
   "source": [
    "!pip install openpyxl"
   ],
   "metadata": {
    "collapsed": false,
    "ExecuteTime": {
     "end_time": "2023-09-21T06:52:20.814642200Z",
     "start_time": "2023-09-21T06:51:55.639454800Z"
    }
   },
   "id": "351d6eff804736c1"
  },
  {
   "cell_type": "code",
   "execution_count": 22,
   "outputs": [
    {
     "data": {
      "text/plain": "D:\\OneDrive\\DS_Projects\\Housing-in-Mexico\\Code\\output_file.xlsx",
      "text/html": "<a href='output_file.xlsx' target='_blank'>output_file.xlsx</a><br>"
     },
     "execution_count": 22,
     "metadata": {},
     "output_type": "execute_result"
    }
   ],
   "source": [
    "import pandas as pd\n",
    "\n",
    "# Load the CSV file into a DataFrame (replace 'your_csv_file.csv' with the actual file path)\n",
    "# csv_file_path = 'D:\\OneDrive\\DS_Projects\\Housing-in-Mexico\\Code\\mexico-real-estate-1.csv'\n",
    "df = pd.read_csv(file_1,  encoding='iso-8859-1')\n",
    "\n",
    "# Specify the Excel file path (replace 'output_file.xlsx' with your desired file name)\n",
    "excel_file_path = 'output_file.xlsx'\n",
    "\n",
    "# Convert and save the DataFrame to an Excel file\n",
    "df.to_excel(excel_file_path, index=False)\n",
    "\n",
    "# Provide a download link for the Excel file in Jupyter Lab\n",
    "from IPython.display import FileLink\n",
    "FileLink(excel_file_path)\n"
   ],
   "metadata": {
    "collapsed": false,
    "ExecuteTime": {
     "end_time": "2023-09-21T06:52:26.576703400Z",
     "start_time": "2023-09-21T06:52:25.561203400Z"
    }
   },
   "id": "4aa3b81c59517472"
  },
  {
   "cell_type": "code",
   "execution_count": null,
   "outputs": [],
   "source": [],
   "metadata": {
    "collapsed": false
   },
   "id": "ff4dc58b132c493"
  }
 ],
 "metadata": {
  "kernelspec": {
   "display_name": "Python 3",
   "language": "python",
   "name": "python3"
  },
  "language_info": {
   "codemirror_mode": {
    "name": "ipython",
    "version": 2
   },
   "file_extension": ".py",
   "mimetype": "text/x-python",
   "name": "python",
   "nbconvert_exporter": "python",
   "pygments_lexer": "ipython2",
   "version": "2.7.6"
  }
 },
 "nbformat": 4,
 "nbformat_minor": 5
}
