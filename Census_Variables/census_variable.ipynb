{
 "cells": [
  {
   "cell_type": "code",
   "id": "initial_id",
   "metadata": {
    "collapsed": true,
    "ExecuteTime": {
     "end_time": "2024-09-02T18:05:50.081664Z",
     "start_time": "2024-09-02T18:05:48.028832Z"
    }
   },
   "source": [
    "import pandas as pd\n",
    "import numpy as np\n",
    "import matplotlib.pyplot as plt"
   ],
   "outputs": [],
   "execution_count": 2
  },
  {
   "metadata": {
    "ExecuteTime": {
     "end_time": "2024-09-02T18:05:50.137446Z",
     "start_time": "2024-09-02T18:05:50.092218Z"
    }
   },
   "cell_type": "code",
   "source": [
    "# Load the data\n",
    "census_data = pd.read_csv('census_data.csv')\n",
    "census_data.head()\n",
    "\n",
    "\n",
    "\n"
   ],
   "id": "974a601668f6792c",
   "outputs": [
    {
     "data": {
      "text/plain": [
       "   Unnamed: 0 first_name  last_name birth_year  voted  num_children  \\\n",
       "0           0     Denise      Ratke       2005  False             0   \n",
       "1           1       Hali  Cummerata       1987  False             0   \n",
       "2           2    Salomon        Orn       1992   True             2   \n",
       "3           3     Sarina   Schiller       1965  False             2   \n",
       "4           4       Gust  Abernathy       1945  False             2   \n",
       "\n",
       "   income_year      higher_tax marital_status  \n",
       "0     92129.41        disagree         single  \n",
       "1     75649.17         neutral       divorced  \n",
       "2    166313.45           agree         single  \n",
       "3     71704.81  strongly agree        married  \n",
       "4    143316.08           agree        married  "
      ],
      "text/html": [
       "<div>\n",
       "<style scoped>\n",
       "    .dataframe tbody tr th:only-of-type {\n",
       "        vertical-align: middle;\n",
       "    }\n",
       "\n",
       "    .dataframe tbody tr th {\n",
       "        vertical-align: top;\n",
       "    }\n",
       "\n",
       "    .dataframe thead th {\n",
       "        text-align: right;\n",
       "    }\n",
       "</style>\n",
       "<table border=\"1\" class=\"dataframe\">\n",
       "  <thead>\n",
       "    <tr style=\"text-align: right;\">\n",
       "      <th></th>\n",
       "      <th>Unnamed: 0</th>\n",
       "      <th>first_name</th>\n",
       "      <th>last_name</th>\n",
       "      <th>birth_year</th>\n",
       "      <th>voted</th>\n",
       "      <th>num_children</th>\n",
       "      <th>income_year</th>\n",
       "      <th>higher_tax</th>\n",
       "      <th>marital_status</th>\n",
       "    </tr>\n",
       "  </thead>\n",
       "  <tbody>\n",
       "    <tr>\n",
       "      <th>0</th>\n",
       "      <td>0</td>\n",
       "      <td>Denise</td>\n",
       "      <td>Ratke</td>\n",
       "      <td>2005</td>\n",
       "      <td>False</td>\n",
       "      <td>0</td>\n",
       "      <td>92129.41</td>\n",
       "      <td>disagree</td>\n",
       "      <td>single</td>\n",
       "    </tr>\n",
       "    <tr>\n",
       "      <th>1</th>\n",
       "      <td>1</td>\n",
       "      <td>Hali</td>\n",
       "      <td>Cummerata</td>\n",
       "      <td>1987</td>\n",
       "      <td>False</td>\n",
       "      <td>0</td>\n",
       "      <td>75649.17</td>\n",
       "      <td>neutral</td>\n",
       "      <td>divorced</td>\n",
       "    </tr>\n",
       "    <tr>\n",
       "      <th>2</th>\n",
       "      <td>2</td>\n",
       "      <td>Salomon</td>\n",
       "      <td>Orn</td>\n",
       "      <td>1992</td>\n",
       "      <td>True</td>\n",
       "      <td>2</td>\n",
       "      <td>166313.45</td>\n",
       "      <td>agree</td>\n",
       "      <td>single</td>\n",
       "    </tr>\n",
       "    <tr>\n",
       "      <th>3</th>\n",
       "      <td>3</td>\n",
       "      <td>Sarina</td>\n",
       "      <td>Schiller</td>\n",
       "      <td>1965</td>\n",
       "      <td>False</td>\n",
       "      <td>2</td>\n",
       "      <td>71704.81</td>\n",
       "      <td>strongly agree</td>\n",
       "      <td>married</td>\n",
       "    </tr>\n",
       "    <tr>\n",
       "      <th>4</th>\n",
       "      <td>4</td>\n",
       "      <td>Gust</td>\n",
       "      <td>Abernathy</td>\n",
       "      <td>1945</td>\n",
       "      <td>False</td>\n",
       "      <td>2</td>\n",
       "      <td>143316.08</td>\n",
       "      <td>agree</td>\n",
       "      <td>married</td>\n",
       "    </tr>\n",
       "  </tbody>\n",
       "</table>\n",
       "</div>"
      ]
     },
     "execution_count": 3,
     "metadata": {},
     "output_type": "execute_result"
    }
   ],
   "execution_count": 3
  },
  {
   "metadata": {
    "ExecuteTime": {
     "end_time": "2024-09-02T18:05:50.261988Z",
     "start_time": "2024-09-02T18:05:50.246269Z"
    }
   },
   "cell_type": "code",
   "source": "census_data.info()",
   "id": "b4d60637e6a76906",
   "outputs": [
    {
     "name": "stdout",
     "output_type": "stream",
     "text": [
      "<class 'pandas.core.frame.DataFrame'>\n",
      "RangeIndex: 100 entries, 0 to 99\n",
      "Data columns (total 9 columns):\n",
      " #   Column          Non-Null Count  Dtype  \n",
      "---  ------          --------------  -----  \n",
      " 0   Unnamed: 0      100 non-null    int64  \n",
      " 1   first_name      100 non-null    object \n",
      " 2   last_name       100 non-null    object \n",
      " 3   birth_year      100 non-null    object \n",
      " 4   voted           100 non-null    bool   \n",
      " 5   num_children    100 non-null    int64  \n",
      " 6   income_year     100 non-null    float64\n",
      " 7   higher_tax      100 non-null    object \n",
      " 8   marital_status  100 non-null    object \n",
      "dtypes: bool(1), float64(1), int64(2), object(5)\n",
      "memory usage: 6.5+ KB\n"
     ]
    }
   ],
   "execution_count": 4
  },
  {
   "metadata": {
    "ExecuteTime": {
     "end_time": "2024-09-02T18:05:50.461060Z",
     "start_time": "2024-09-02T18:05:50.454077Z"
    }
   },
   "cell_type": "code",
   "source": "print(census_data.dtypes)",
   "id": "a0ad16b54322d2ef",
   "outputs": [
    {
     "name": "stdout",
     "output_type": "stream",
     "text": [
      "Unnamed: 0          int64\n",
      "first_name         object\n",
      "last_name          object\n",
      "birth_year         object\n",
      "voted                bool\n",
      "num_children        int64\n",
      "income_year       float64\n",
      "higher_tax         object\n",
      "marital_status     object\n",
      "dtype: object\n"
     ]
    }
   ],
   "execution_count": 5
  },
  {
   "metadata": {
    "ExecuteTime": {
     "end_time": "2024-09-02T18:05:50.724289Z",
     "start_time": "2024-09-02T18:05:50.712620Z"
    }
   },
   "cell_type": "code",
   "source": "print(census_data['birth_year'].unique())",
   "id": "2d3a0c168a55997c",
   "outputs": [
    {
     "name": "stdout",
     "output_type": "stream",
     "text": [
      "['2005' '1987' '1992' '1965' '1945' '1951' '1963' '1949' '1950' '1971'\n",
      " '2007' '1944' '1995' '1973' '1946' '1954' '1994' '1989' '1947' '1993'\n",
      " '1976' '1984' 'missing' '1966' '1941' '2000' '1953' '1956' '1960' '2001'\n",
      " '1980' '1955' '1985' '1996' '1968' '1979' '2006' '1962' '1981' '1959'\n",
      " '1977' '1978' '1983' '1957' '1961' '1982' '2002' '1998' '1999' '1952'\n",
      " '1940' '1986' '1958']\n"
     ]
    }
   ],
   "execution_count": 6
  },
  {
   "metadata": {
    "ExecuteTime": {
     "end_time": "2024-09-02T18:12:06.903050Z",
     "start_time": "2024-09-02T18:12:06.882398Z"
    }
   },
   "cell_type": "code",
   "source": "census_data['birth_year'] = census_data['birth_year'].replace(['missing'],1967)",
   "id": "256881c0dc0abb78",
   "outputs": [],
   "execution_count": 8
  },
  {
   "metadata": {
    "ExecuteTime": {
     "end_time": "2024-09-02T18:12:34.651804Z",
     "start_time": "2024-09-02T18:12:34.636340Z"
    }
   },
   "cell_type": "code",
   "source": "print(census_data['birth_year'].unique())",
   "id": "ac41ebd882ce52e0",
   "outputs": [
    {
     "name": "stdout",
     "output_type": "stream",
     "text": [
      "['2005' '1987' '1992' '1965' '1945' '1951' '1963' '1949' '1950' '1971'\n",
      " '2007' '1944' '1995' '1973' '1946' '1954' '1994' '1989' '1947' '1993'\n",
      " '1976' '1984' 1967 '1966' '1941' '2000' '1953' '1956' '1960' '2001'\n",
      " '1980' '1955' '1985' '1996' '1968' '1979' '2006' '1962' '1981' '1959'\n",
      " '1977' '1978' '1983' '1957' '1961' '1982' '2002' '1998' '1999' '1952'\n",
      " '1940' '1986' '1958']\n"
     ]
    }
   ],
   "execution_count": 9
  },
  {
   "metadata": {
    "ExecuteTime": {
     "end_time": "2024-09-02T18:14:45.049984Z",
     "start_time": "2024-09-02T18:14:45.031043Z"
    }
   },
   "cell_type": "code",
   "source": "census_data['birth_year']=census_data['birth_year'].astype(int)",
   "id": "a1a34b09d3adaf85",
   "outputs": [],
   "execution_count": 11
  },
  {
   "metadata": {
    "ExecuteTime": {
     "end_time": "2024-09-02T18:15:24.109566Z",
     "start_time": "2024-09-02T18:15:24.093377Z"
    }
   },
   "cell_type": "code",
   "source": "census_data.dtypes",
   "id": "7e03e0aab4140948",
   "outputs": [
    {
     "data": {
      "text/plain": [
       "Unnamed: 0          int64\n",
       "first_name         object\n",
       "last_name          object\n",
       "birth_year          int32\n",
       "voted                bool\n",
       "num_children        int64\n",
       "income_year       float64\n",
       "higher_tax         object\n",
       "marital_status     object\n",
       "dtype: object"
      ]
     },
     "execution_count": 12,
     "metadata": {},
     "output_type": "execute_result"
    }
   ],
   "execution_count": 12
  },
  {
   "metadata": {
    "ExecuteTime": {
     "end_time": "2024-09-02T18:17:35.171358Z",
     "start_time": "2024-09-02T18:17:35.165058Z"
    }
   },
   "cell_type": "code",
   "source": "print(census_data['birth_year'].mean())",
   "id": "ba5fe0c5a7b041ce",
   "outputs": [
    {
     "name": "stdout",
     "output_type": "stream",
     "text": [
      "1973.4\n"
     ]
    }
   ],
   "execution_count": 13
  },
  {
   "metadata": {
    "ExecuteTime": {
     "end_time": "2024-09-02T18:19:56.857265Z",
     "start_time": "2024-09-02T18:19:56.845077Z"
    }
   },
   "cell_type": "code",
   "source": [
    "'''Your manager would like to set an order to the higher_tax variable so that: strongly disagree < disagree < neutral < agree < strongly agree.\n",
    "\n",
    "#Convert the higher_tax variable to the category data type with the appropriate order, then print the new order using the .unique() method.'''\n",
    "\n"
   ],
   "id": "2013fd6e0cc7b75a",
   "outputs": [
    {
     "data": {
      "text/plain": [
       "'Your manager would like to set an order to the higher_tax variable so that: strongly disagree < disagree < neutral < agree < strongly agree.\\n\\n#Convert the higher_tax variable to the category data type with the appropriate order, then print the new order using the .unique() method.'"
      ]
     },
     "execution_count": 14,
     "metadata": {},
     "output_type": "execute_result"
    }
   ],
   "execution_count": 14
  },
  {
   "metadata": {
    "ExecuteTime": {
     "end_time": "2024-09-02T18:27:04.434814Z",
     "start_time": "2024-09-02T18:27:04.424017Z"
    }
   },
   "cell_type": "code",
   "source": "census_data['higher_tax'] = pd.Categorical(census_data['higher_tax'], ['strongly disagree', 'disagree', 'neutral', 'agree', 'strongly agree'], ordered= True)",
   "id": "f57faeaa72a1393f",
   "outputs": [],
   "execution_count": 15
  },
  {
   "metadata": {
    "ExecuteTime": {
     "end_time": "2024-09-02T18:28:23.037459Z",
     "start_time": "2024-09-02T18:28:23.024189Z"
    }
   },
   "cell_type": "code",
   "source": "print(census_data['higher_tax'].unique())",
   "id": "22af22fd823428d",
   "outputs": [
    {
     "name": "stdout",
     "output_type": "stream",
     "text": [
      "['disagree', 'neutral', 'agree', 'strongly agree', 'strongly disagree']\n",
      "Categories (5, object): ['strongly disagree' < 'disagree' < 'neutral' < 'agree' < 'strongly agree']\n"
     ]
    }
   ],
   "execution_count": 17
  },
  {
   "metadata": {
    "ExecuteTime": {
     "end_time": "2024-09-02T18:35:06.091328Z",
     "start_time": "2024-09-02T18:35:06.075194Z"
    }
   },
   "cell_type": "code",
   "source": [
    "# finding median\n",
    "census_data['higher_tax']=census_data['higher_tax'].cat.codes"
   ],
   "id": "4d15f6ce81a9551b",
   "outputs": [],
   "execution_count": 20
  },
  {
   "metadata": {
    "ExecuteTime": {
     "end_time": "2024-09-02T18:35:22.609917Z",
     "start_time": "2024-09-02T18:35:22.597625Z"
    }
   },
   "cell_type": "code",
   "source": "census_data['higher_tax'].median()",
   "id": "3776e41b7dfca6b5",
   "outputs": [
    {
     "data": {
      "text/plain": [
       "2.0"
      ]
     },
     "execution_count": 21,
     "metadata": {},
     "output_type": "execute_result"
    }
   ],
   "execution_count": 21
  },
  {
   "metadata": {
    "ExecuteTime": {
     "end_time": "2024-09-02T18:43:04.522133Z",
     "start_time": "2024-09-02T18:43:04.502883Z"
    }
   },
   "cell_type": "code",
   "source": "census_data = pd.get_dummies(census_data, columns=['marital_status'])",
   "id": "e54a786e12275a21",
   "outputs": [],
   "execution_count": 24
  },
  {
   "metadata": {
    "ExecuteTime": {
     "end_time": "2024-09-02T18:43:27.095814Z",
     "start_time": "2024-09-02T18:43:27.070360Z"
    }
   },
   "cell_type": "code",
   "source": "print(census_data)",
   "id": "7b819c42a3c40fce",
   "outputs": [
    {
     "name": "stdout",
     "output_type": "stream",
     "text": [
      "    Unnamed: 0  first_name   last_name  birth_year  voted  num_children  \\\n",
      "0            0      Denise       Ratke        2005  False             0   \n",
      "1            1        Hali   Cummerata        1987  False             0   \n",
      "2            2     Salomon         Orn        1992   True             2   \n",
      "3            3      Sarina    Schiller        1965  False             2   \n",
      "4            4        Gust   Abernathy        1945  False             2   \n",
      "..         ...         ...         ...         ...    ...           ...   \n",
      "95          95      Carisa       Hills        1958  False             3   \n",
      "96          96      Tameka     Collins        2001  False             1   \n",
      "97          97       Adams    Leuschke        1987  False             0   \n",
      "98          98  Earnestine     Gutmann        1985   True             4   \n",
      "99          99        Rosa  Runolfsson        1961   True             3   \n",
      "\n",
      "    income_year  higher_tax  marital_status_divorced  marital_status_married  \\\n",
      "0      92129.41           1                    False                   False   \n",
      "1      75649.17           2                     True                   False   \n",
      "2     166313.45           3                    False                   False   \n",
      "3      71704.81           4                    False                    True   \n",
      "4     143316.08           3                    False                    True   \n",
      "..          ...         ...                      ...                     ...   \n",
      "95    157117.14           3                    False                    True   \n",
      "96     61518.34           0                    False                   False   \n",
      "97     41784.87           4                    False                   False   \n",
      "98     79021.46           1                    False                   False   \n",
      "99     82300.02           4                    False                   False   \n",
      "\n",
      "    marital_status_single  marital_status_widowed  \n",
      "0                    True                   False  \n",
      "1                   False                   False  \n",
      "2                    True                   False  \n",
      "3                   False                   False  \n",
      "4                   False                   False  \n",
      "..                    ...                     ...  \n",
      "95                  False                   False  \n",
      "96                   True                   False  \n",
      "97                   True                   False  \n",
      "98                  False                    True  \n",
      "99                   True                   False  \n",
      "\n",
      "[100 rows x 12 columns]\n"
     ]
    }
   ],
   "execution_count": 25
  },
  {
   "metadata": {},
   "cell_type": "code",
   "outputs": [],
   "execution_count": null,
   "source": "",
   "id": "6472f7f07b51f745"
  }
 ],
 "metadata": {
  "kernelspec": {
   "display_name": "Python 3",
   "language": "python",
   "name": "python3"
  },
  "language_info": {
   "codemirror_mode": {
    "name": "ipython",
    "version": 2
   },
   "file_extension": ".py",
   "mimetype": "text/x-python",
   "name": "python",
   "nbconvert_exporter": "python",
   "pygments_lexer": "ipython2",
   "version": "2.7.6"
  }
 },
 "nbformat": 4,
 "nbformat_minor": 5
}
