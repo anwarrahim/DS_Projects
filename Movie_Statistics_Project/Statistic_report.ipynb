{
 "cells": [
  {
   "cell_type": "code",
   "execution_count": 2,
   "id": "initial_id",
   "metadata": {
    "collapsed": true,
    "ExecuteTime": {
     "end_time": "2023-09-27T03:30:33.106751Z",
     "start_time": "2023-09-27T03:30:28.974005600Z"
    }
   },
   "outputs": [],
   "source": [
    "import pandas as pd"
   ]
  },
  {
   "cell_type": "code",
   "execution_count": 3,
   "outputs": [],
   "source": [
    "df1 = pd.read_csv('D:/OneDrive/DS_Projects/Movie_Statistics_Project/NetflixOriginals.csv', encoding='latin-1')"
   ],
   "metadata": {
    "collapsed": false,
    "ExecuteTime": {
     "end_time": "2023-09-27T03:30:33.215387800Z",
     "start_time": "2023-09-27T03:30:33.112957800Z"
    }
   },
   "id": "b0140cfb05c6ff59"
  },
  {
   "cell_type": "code",
   "execution_count": 4,
   "outputs": [
    {
     "name": "stdout",
     "output_type": "stream",
     "text": [
      "                                           Title                  Genre  \\\n",
      "0                                Enter the Anime            Documentary   \n",
      "1                                    Dark Forces               Thriller   \n",
      "2                                        The App  Science fiction/Drama   \n",
      "3                                 The Open House        Horror thriller   \n",
      "4                                    Kaali Khuhi                Mystery   \n",
      "..                                           ...                    ...   \n",
      "579        Taylor Swift: Reputation Stadium Tour           Concert Film   \n",
      "580  Winter on Fire: Ukraine's Fight for Freedom            Documentary   \n",
      "581                      Springsteen on Broadway           One-man show   \n",
      "582    Emicida: AmarElo - It's All For Yesterday            Documentary   \n",
      "583     David Attenborough: A Life on Our Planet            Documentary   \n",
      "\n",
      "              Premiere  Runtime  IMDB Score                  Language  \n",
      "0       August 5, 2019       58         2.5          English/Japanese  \n",
      "1      August 21, 2020       81         2.6                   Spanish  \n",
      "2    December 26, 2019       79         2.6                   Italian  \n",
      "3     January 19, 2018       94         3.2                   English  \n",
      "4     October 30, 2020       90         3.4                     Hindi  \n",
      "..                 ...      ...         ...                       ...  \n",
      "579  December 31, 2018      125         8.4                   English  \n",
      "580    October 9, 2015       91         8.4  English/Ukranian/Russian  \n",
      "581  December 16, 2018      153         8.5                   English  \n",
      "582   December 8, 2020       89         8.6                Portuguese  \n",
      "583    October 4, 2020       83         9.0                   English  \n",
      "\n",
      "[584 rows x 6 columns]\n"
     ]
    }
   ],
   "source": [
    "print(df1)"
   ],
   "metadata": {
    "collapsed": false,
    "ExecuteTime": {
     "end_time": "2023-09-27T03:30:33.332995800Z",
     "start_time": "2023-09-27T03:30:33.222536400Z"
    }
   },
   "id": "b424d808fc26b9d3"
  },
  {
   "cell_type": "code",
   "execution_count": 5,
   "outputs": [
    {
     "data": {
      "text/plain": "(584, 6)"
     },
     "execution_count": 5,
     "metadata": {},
     "output_type": "execute_result"
    }
   ],
   "source": [
    "df1.shape"
   ],
   "metadata": {
    "collapsed": false,
    "ExecuteTime": {
     "end_time": "2023-09-27T03:30:33.345870300Z",
     "start_time": "2023-09-27T03:30:33.269322600Z"
    }
   },
   "id": "7df42d436ba40f10"
  },
  {
   "cell_type": "markdown",
   "source": [
    "## excess the specific column"
   ],
   "metadata": {
    "collapsed": false
   },
   "id": "17808ea2bb83753a"
  },
  {
   "cell_type": "code",
   "execution_count": 9,
   "outputs": [],
   "source": [
    "column_lang=df1['Language']"
   ],
   "metadata": {
    "collapsed": false,
    "ExecuteTime": {
     "end_time": "2023-09-27T03:33:35.276705100Z",
     "start_time": "2023-09-27T03:33:35.262910Z"
    }
   },
   "id": "b51b03fcca566c68"
  },
  {
   "cell_type": "code",
   "execution_count": 12,
   "outputs": [],
   "source": [
    "English_count= (df1['Language'].str.contains('English', case=False)).sum()"
   ],
   "metadata": {
    "collapsed": false,
    "ExecuteTime": {
     "end_time": "2023-09-27T03:44:56.217447200Z",
     "start_time": "2023-09-27T03:44:56.200449600Z"
    }
   },
   "id": "7e99114fef5add79"
  },
  {
   "cell_type": "code",
   "execution_count": 14,
   "outputs": [
    {
     "name": "stdout",
     "output_type": "stream",
     "text": [
      "Number of English movies 422\n"
     ]
    }
   ],
   "source": [
    "print(\"Number of English movies is \",English_count)"
   ],
   "metadata": {
    "collapsed": false,
    "ExecuteTime": {
     "end_time": "2023-09-27T03:46:43.757111600Z",
     "start_time": "2023-09-27T03:46:43.714330900Z"
    }
   },
   "id": "83caf71c4c9391cc"
  },
  {
   "cell_type": "markdown",
   "source": [
    "## find total entries in Language column"
   ],
   "metadata": {
    "collapsed": false
   },
   "id": "d77b4f5937741225"
  },
  {
   "cell_type": "code",
   "execution_count": null,
   "outputs": [],
   "source": [],
   "metadata": {
    "collapsed": false
   },
   "id": "b564508b72834d18"
  },
  {
   "cell_type": "code",
   "execution_count": 15,
   "outputs": [],
   "source": [
    "Total_Entries_lang = df1['Language'].count()"
   ],
   "metadata": {
    "collapsed": false,
    "ExecuteTime": {
     "end_time": "2023-09-27T03:51:38.768528500Z",
     "start_time": "2023-09-27T03:51:38.742405100Z"
    }
   },
   "id": "b46b9c270c6955d8"
  },
  {
   "cell_type": "code",
   "execution_count": 16,
   "outputs": [
    {
     "name": "stdout",
     "output_type": "stream",
     "text": [
      "584\n"
     ]
    }
   ],
   "source": [
    "print(Total_Entries_lang)"
   ],
   "metadata": {
    "collapsed": false,
    "ExecuteTime": {
     "end_time": "2023-09-27T03:51:55.813245200Z",
     "start_time": "2023-09-27T03:51:55.790168900Z"
    }
   },
   "id": "e025e15bf50a64c2"
  },
  {
   "cell_type": "markdown",
   "source": [
    "## Find the proportion"
   ],
   "metadata": {
    "collapsed": false
   },
   "id": "8157dc24774ae884"
  },
  {
   "cell_type": "code",
   "execution_count": 17,
   "outputs": [
    {
     "name": "stdout",
     "output_type": "stream",
     "text": [
      "This is the proportion of English language movies  0.7226027397260274\n"
     ]
    }
   ],
   "source": [
    "print(\"This is the proportion of English language movies \", English_count/Total_Entries_lang)"
   ],
   "metadata": {
    "collapsed": false,
    "ExecuteTime": {
     "end_time": "2023-09-27T03:56:10.285465700Z",
     "start_time": "2023-09-27T03:56:10.242095200Z"
    }
   },
   "id": "be800b0614a87b7b"
  },
  {
   "cell_type": "code",
   "execution_count": 7,
   "outputs": [
    {
     "name": "stdout",
     "output_type": "stream",
     "text": [
      "<class 'pandas.core.frame.DataFrame'>\n",
      "RangeIndex: 584 entries, 0 to 583\n",
      "Data columns (total 6 columns):\n",
      " #   Column      Non-Null Count  Dtype  \n",
      "---  ------      --------------  -----  \n",
      " 0   Title       584 non-null    object \n",
      " 1   Genre       584 non-null    object \n",
      " 2   Premiere    584 non-null    object \n",
      " 3   Runtime     584 non-null    int64  \n",
      " 4   IMDB Score  584 non-null    float64\n",
      " 5   Language    584 non-null    object \n",
      "dtypes: float64(1), int64(1), object(4)\n",
      "memory usage: 27.5+ KB\n"
     ]
    }
   ],
   "source": [
    "df1.info()"
   ],
   "metadata": {
    "collapsed": false,
    "ExecuteTime": {
     "end_time": "2023-09-27T03:30:33.502231400Z",
     "start_time": "2023-09-27T03:30:33.318682300Z"
    }
   },
   "id": "cb6e59f0341758ef"
  },
  {
   "cell_type": "code",
   "execution_count": 8,
   "outputs": [
    {
     "data": {
      "text/plain": "             Title                  Genre           Premiere  Runtime  \\\n0  Enter the Anime            Documentary     August 5, 2019       58   \n1      Dark Forces               Thriller    August 21, 2020       81   \n2          The App  Science fiction/Drama  December 26, 2019       79   \n3   The Open House        Horror thriller   January 19, 2018       94   \n4      Kaali Khuhi                Mystery   October 30, 2020       90   \n\n   IMDB Score          Language  \n0         2.5  English/Japanese  \n1         2.6           Spanish  \n2         2.6           Italian  \n3         3.2           English  \n4         3.4             Hindi  ",
      "text/html": "<div>\n<style scoped>\n    .dataframe tbody tr th:only-of-type {\n        vertical-align: middle;\n    }\n\n    .dataframe tbody tr th {\n        vertical-align: top;\n    }\n\n    .dataframe thead th {\n        text-align: right;\n    }\n</style>\n<table border=\"1\" class=\"dataframe\">\n  <thead>\n    <tr style=\"text-align: right;\">\n      <th></th>\n      <th>Title</th>\n      <th>Genre</th>\n      <th>Premiere</th>\n      <th>Runtime</th>\n      <th>IMDB Score</th>\n      <th>Language</th>\n    </tr>\n  </thead>\n  <tbody>\n    <tr>\n      <th>0</th>\n      <td>Enter the Anime</td>\n      <td>Documentary</td>\n      <td>August 5, 2019</td>\n      <td>58</td>\n      <td>2.5</td>\n      <td>English/Japanese</td>\n    </tr>\n    <tr>\n      <th>1</th>\n      <td>Dark Forces</td>\n      <td>Thriller</td>\n      <td>August 21, 2020</td>\n      <td>81</td>\n      <td>2.6</td>\n      <td>Spanish</td>\n    </tr>\n    <tr>\n      <th>2</th>\n      <td>The App</td>\n      <td>Science fiction/Drama</td>\n      <td>December 26, 2019</td>\n      <td>79</td>\n      <td>2.6</td>\n      <td>Italian</td>\n    </tr>\n    <tr>\n      <th>3</th>\n      <td>The Open House</td>\n      <td>Horror thriller</td>\n      <td>January 19, 2018</td>\n      <td>94</td>\n      <td>3.2</td>\n      <td>English</td>\n    </tr>\n    <tr>\n      <th>4</th>\n      <td>Kaali Khuhi</td>\n      <td>Mystery</td>\n      <td>October 30, 2020</td>\n      <td>90</td>\n      <td>3.4</td>\n      <td>Hindi</td>\n    </tr>\n  </tbody>\n</table>\n</div>"
     },
     "execution_count": 8,
     "metadata": {},
     "output_type": "execute_result"
    }
   ],
   "source": [
    "df1.head()"
   ],
   "metadata": {
    "collapsed": false,
    "ExecuteTime": {
     "end_time": "2023-09-27T03:30:33.531452600Z",
     "start_time": "2023-09-27T03:30:33.368519500Z"
    }
   },
   "id": "25a8413ad578250a"
  },
  {
   "cell_type": "code",
   "execution_count": null,
   "outputs": [],
   "source": [],
   "metadata": {
    "collapsed": false
   },
   "id": "e7384aafd258c91a"
  }
 ],
 "metadata": {
  "kernelspec": {
   "display_name": "Python 3",
   "language": "python",
   "name": "python3"
  },
  "language_info": {
   "codemirror_mode": {
    "name": "ipython",
    "version": 2
   },
   "file_extension": ".py",
   "mimetype": "text/x-python",
   "name": "python",
   "nbconvert_exporter": "python",
   "pygments_lexer": "ipython2",
   "version": "2.7.6"
  }
 },
 "nbformat": 4,
 "nbformat_minor": 5
}
