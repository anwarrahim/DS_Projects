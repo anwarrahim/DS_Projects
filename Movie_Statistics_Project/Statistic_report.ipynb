{
 "cells": [
  {
   "cell_type": "code",
   "execution_count": 30,
   "id": "initial_id",
   "metadata": {
    "collapsed": true,
    "ExecuteTime": {
     "end_time": "2023-09-27T03:58:20.867142200Z",
     "start_time": "2023-09-27T03:58:20.847138500Z"
    }
   },
   "outputs": [],
   "source": [
    "import pandas as pd"
   ]
  },
  {
   "cell_type": "code",
   "execution_count": 31,
   "outputs": [],
   "source": [
    "df1 = pd.read_csv('D:/OneDrive/DS_Projects/Movie_Statistics_Project/NetflixOriginals.csv', encoding='latin-1')"
   ],
   "metadata": {
    "collapsed": false,
    "ExecuteTime": {
     "end_time": "2023-09-27T03:58:30.694514400Z",
     "start_time": "2023-09-27T03:58:30.681163200Z"
    }
   },
   "id": "b0140cfb05c6ff59"
  },
  {
   "cell_type": "code",
   "execution_count": 34,
   "outputs": [
    {
     "name": "stdout",
     "output_type": "stream",
     "text": [
      "                                           Title                  Genre  \\\n",
      "0                                Enter the Anime            Documentary   \n",
      "1                                    Dark Forces               Thriller   \n",
      "2                                        The App  Science fiction/Drama   \n",
      "3                                 The Open House        Horror thriller   \n",
      "4                                    Kaali Khuhi                Mystery   \n",
      "..                                           ...                    ...   \n",
      "579        Taylor Swift: Reputation Stadium Tour           Concert Film   \n",
      "580  Winter on Fire: Ukraine's Fight for Freedom            Documentary   \n",
      "581                      Springsteen on Broadway           One-man show   \n",
      "582    Emicida: AmarElo - It's All For Yesterday            Documentary   \n",
      "583     David Attenborough: A Life on Our Planet            Documentary   \n",
      "\n",
      "              Premiere  Runtime  IMDB Score                  Language  \n",
      "0       August 5, 2019       58         2.5          English/Japanese  \n",
      "1      August 21, 2020       81         2.6                   Spanish  \n",
      "2    December 26, 2019       79         2.6                   Italian  \n",
      "3     January 19, 2018       94         3.2                   English  \n",
      "4     October 30, 2020       90         3.4                     Hindi  \n",
      "..                 ...      ...         ...                       ...  \n",
      "579  December 31, 2018      125         8.4                   English  \n",
      "580    October 9, 2015       91         8.4  English/Ukranian/Russian  \n",
      "581  December 16, 2018      153         8.5                   English  \n",
      "582   December 8, 2020       89         8.6                Portuguese  \n",
      "583    October 4, 2020       83         9.0                   English  \n",
      "\n",
      "[584 rows x 6 columns]\n"
     ]
    }
   ],
   "source": [
    "print(df1)"
   ],
   "metadata": {
    "collapsed": false,
    "ExecuteTime": {
     "end_time": "2023-09-27T03:58:41.440809900Z",
     "start_time": "2023-09-27T03:58:41.430153900Z"
    }
   },
   "id": "b424d808fc26b9d3"
  },
  {
   "cell_type": "code",
   "execution_count": 36,
   "outputs": [
    {
     "data": {
      "text/plain": "(584, 6)"
     },
     "execution_count": 36,
     "metadata": {},
     "output_type": "execute_result"
    }
   ],
   "source": [
    "df1.shape"
   ],
   "metadata": {
    "collapsed": false,
    "ExecuteTime": {
     "end_time": "2023-09-27T03:58:55.330867900Z",
     "start_time": "2023-09-27T03:58:55.318934800Z"
    }
   },
   "id": "7df42d436ba40f10"
  },
  {
   "cell_type": "markdown",
   "source": [
    "## Excess the specific column"
   ],
   "metadata": {
    "collapsed": false
   },
   "id": "17808ea2bb83753a"
  },
  {
   "cell_type": "code",
   "execution_count": 37,
   "outputs": [],
   "source": [
    "column_lang=df1['Language']"
   ],
   "metadata": {
    "collapsed": false,
    "ExecuteTime": {
     "end_time": "2023-09-27T03:59:12.543244900Z",
     "start_time": "2023-09-27T03:59:12.532234500Z"
    }
   },
   "id": "b51b03fcca566c68"
  },
  {
   "cell_type": "code",
   "execution_count": 39,
   "outputs": [],
   "source": [
    "English_count= (df1['Language'].str.contains('English', case=False)).sum()"
   ],
   "metadata": {
    "collapsed": false,
    "ExecuteTime": {
     "end_time": "2023-09-27T03:59:26.669039100Z",
     "start_time": "2023-09-27T03:59:26.663000600Z"
    }
   },
   "id": "7e99114fef5add79"
  },
  {
   "cell_type": "code",
   "execution_count": 40,
   "outputs": [
    {
     "name": "stdout",
     "output_type": "stream",
     "text": [
      "Number of English movies is  422\n"
     ]
    }
   ],
   "source": [
    "print(\"Number of English movies is \",English_count)"
   ],
   "metadata": {
    "collapsed": false,
    "ExecuteTime": {
     "end_time": "2023-09-27T03:59:28.200149100Z",
     "start_time": "2023-09-27T03:59:28.188614400Z"
    }
   },
   "id": "83caf71c4c9391cc"
  },
  {
   "cell_type": "markdown",
   "source": [
    "## find total entries in Language column"
   ],
   "metadata": {
    "collapsed": false
   },
   "id": "d77b4f5937741225"
  },
  {
   "cell_type": "code",
   "execution_count": 42,
   "outputs": [],
   "source": [
    "Total_Entries_lang = df1['Language'].count()"
   ],
   "metadata": {
    "collapsed": false,
    "ExecuteTime": {
     "end_time": "2023-09-27T04:00:04.883733200Z",
     "start_time": "2023-09-27T04:00:04.874204600Z"
    }
   },
   "id": "b46b9c270c6955d8"
  },
  {
   "cell_type": "code",
   "execution_count": 43,
   "outputs": [
    {
     "name": "stdout",
     "output_type": "stream",
     "text": [
      "584\n"
     ]
    }
   ],
   "source": [
    "print(Total_Entries_lang)"
   ],
   "metadata": {
    "collapsed": false,
    "ExecuteTime": {
     "end_time": "2023-09-27T04:00:05.330006100Z",
     "start_time": "2023-09-27T04:00:05.320313500Z"
    }
   },
   "id": "e025e15bf50a64c2"
  },
  {
   "cell_type": "markdown",
   "source": [
    "## Find the proportion"
   ],
   "metadata": {
    "collapsed": false
   },
   "id": "8157dc24774ae884"
  },
  {
   "cell_type": "code",
   "execution_count": 44,
   "outputs": [
    {
     "name": "stdout",
     "output_type": "stream",
     "text": [
      "This is the proportion of English language movies  0.7226027397260274\n"
     ]
    }
   ],
   "source": [
    "print(\"This is the proportion of English language movies \", English_count/Total_Entries_lang)"
   ],
   "metadata": {
    "collapsed": false,
    "ExecuteTime": {
     "end_time": "2023-09-27T04:00:15.996558500Z",
     "start_time": "2023-09-27T04:00:15.983554200Z"
    }
   },
   "id": "be800b0614a87b7b"
  },
  {
   "cell_type": "code",
   "execution_count": 46,
   "outputs": [
    {
     "name": "stdout",
     "output_type": "stream",
     "text": [
      "<class 'pandas.core.frame.DataFrame'>\n",
      "RangeIndex: 584 entries, 0 to 583\n",
      "Data columns (total 6 columns):\n",
      " #   Column      Non-Null Count  Dtype  \n",
      "---  ------      --------------  -----  \n",
      " 0   Title       584 non-null    object \n",
      " 1   Genre       584 non-null    object \n",
      " 2   Premiere    584 non-null    object \n",
      " 3   Runtime     584 non-null    int64  \n",
      " 4   IMDB Score  584 non-null    float64\n",
      " 5   Language    584 non-null    object \n",
      "dtypes: float64(1), int64(1), object(4)\n",
      "memory usage: 27.5+ KB\n"
     ]
    }
   ],
   "source": [
    "df1.info()"
   ],
   "metadata": {
    "collapsed": false,
    "ExecuteTime": {
     "end_time": "2023-09-27T04:01:50.421821100Z",
     "start_time": "2023-09-27T04:01:50.392665100Z"
    }
   },
   "id": "cb6e59f0341758ef"
  },
  {
   "cell_type": "code",
   "execution_count": 47,
   "outputs": [
    {
     "data": {
      "text/plain": "                             Title                    Genre  \\\n0                  Enter the Anime              Documentary   \n1                      Dark Forces                 Thriller   \n2                          The App    Science fiction/Drama   \n3                   The Open House          Horror thriller   \n4                      Kaali Khuhi                  Mystery   \n5                            Drive                   Action   \n6                Leyla Everlasting                   Comedy   \n7  The Last Days of American Crime      Heist film/Thriller   \n8                          Paradox  Musical/Western/Fantasy   \n9               Sardar Ka Grandson                   Comedy   \n\n            Premiere  Runtime  IMDB Score          Language  \n0     August 5, 2019       58         2.5  English/Japanese  \n1    August 21, 2020       81         2.6           Spanish  \n2  December 26, 2019       79         2.6           Italian  \n3   January 19, 2018       94         3.2           English  \n4   October 30, 2020       90         3.4             Hindi  \n5   November 1, 2019      147         3.5             Hindi  \n6   December 4, 2020      112         3.7           Turkish  \n7       June 5, 2020      149         3.7           English  \n8     March 23, 2018       73         3.9           English  \n9       May 18, 2021      139         4.1             Hindi  ",
      "text/html": "<div>\n<style scoped>\n    .dataframe tbody tr th:only-of-type {\n        vertical-align: middle;\n    }\n\n    .dataframe tbody tr th {\n        vertical-align: top;\n    }\n\n    .dataframe thead th {\n        text-align: right;\n    }\n</style>\n<table border=\"1\" class=\"dataframe\">\n  <thead>\n    <tr style=\"text-align: right;\">\n      <th></th>\n      <th>Title</th>\n      <th>Genre</th>\n      <th>Premiere</th>\n      <th>Runtime</th>\n      <th>IMDB Score</th>\n      <th>Language</th>\n    </tr>\n  </thead>\n  <tbody>\n    <tr>\n      <th>0</th>\n      <td>Enter the Anime</td>\n      <td>Documentary</td>\n      <td>August 5, 2019</td>\n      <td>58</td>\n      <td>2.5</td>\n      <td>English/Japanese</td>\n    </tr>\n    <tr>\n      <th>1</th>\n      <td>Dark Forces</td>\n      <td>Thriller</td>\n      <td>August 21, 2020</td>\n      <td>81</td>\n      <td>2.6</td>\n      <td>Spanish</td>\n    </tr>\n    <tr>\n      <th>2</th>\n      <td>The App</td>\n      <td>Science fiction/Drama</td>\n      <td>December 26, 2019</td>\n      <td>79</td>\n      <td>2.6</td>\n      <td>Italian</td>\n    </tr>\n    <tr>\n      <th>3</th>\n      <td>The Open House</td>\n      <td>Horror thriller</td>\n      <td>January 19, 2018</td>\n      <td>94</td>\n      <td>3.2</td>\n      <td>English</td>\n    </tr>\n    <tr>\n      <th>4</th>\n      <td>Kaali Khuhi</td>\n      <td>Mystery</td>\n      <td>October 30, 2020</td>\n      <td>90</td>\n      <td>3.4</td>\n      <td>Hindi</td>\n    </tr>\n    <tr>\n      <th>5</th>\n      <td>Drive</td>\n      <td>Action</td>\n      <td>November 1, 2019</td>\n      <td>147</td>\n      <td>3.5</td>\n      <td>Hindi</td>\n    </tr>\n    <tr>\n      <th>6</th>\n      <td>Leyla Everlasting</td>\n      <td>Comedy</td>\n      <td>December 4, 2020</td>\n      <td>112</td>\n      <td>3.7</td>\n      <td>Turkish</td>\n    </tr>\n    <tr>\n      <th>7</th>\n      <td>The Last Days of American Crime</td>\n      <td>Heist film/Thriller</td>\n      <td>June 5, 2020</td>\n      <td>149</td>\n      <td>3.7</td>\n      <td>English</td>\n    </tr>\n    <tr>\n      <th>8</th>\n      <td>Paradox</td>\n      <td>Musical/Western/Fantasy</td>\n      <td>March 23, 2018</td>\n      <td>73</td>\n      <td>3.9</td>\n      <td>English</td>\n    </tr>\n    <tr>\n      <th>9</th>\n      <td>Sardar Ka Grandson</td>\n      <td>Comedy</td>\n      <td>May 18, 2021</td>\n      <td>139</td>\n      <td>4.1</td>\n      <td>Hindi</td>\n    </tr>\n  </tbody>\n</table>\n</div>"
     },
     "execution_count": 47,
     "metadata": {},
     "output_type": "execute_result"
    }
   ],
   "source": [
    "df1.head(10)"
   ],
   "metadata": {
    "collapsed": false,
    "ExecuteTime": {
     "end_time": "2023-09-27T04:02:08.203547500Z",
     "start_time": "2023-09-27T04:02:08.148477300Z"
    }
   },
   "id": "25b5340d9aff8d32"
  },
  {
   "cell_type": "markdown",
   "source": [
    "# What is the ratio of English-language films to films in a single language that is NOT English?"
   ],
   "metadata": {
    "collapsed": false
   },
   "id": "65f5044639a0fd51"
  },
  {
   "cell_type": "markdown",
   "source": [
    "To find the other language ratio rather than english we need to find the numbers of every language and then perfrom next step to find the ratio."
   ],
   "metadata": {
    "collapsed": false
   },
   "id": "18e54c8e5d5ba384"
  },
  {
   "cell_type": "code",
   "execution_count": 48,
   "outputs": [
    {
     "data": {
      "text/plain": "0              English/Japanese\n1                       Spanish\n2                       Italian\n3                       English\n4                         Hindi\n                 ...           \n579                     English\n580    English/Ukranian/Russian\n581                     English\n582                  Portuguese\n583                     English\nName: Language, Length: 584, dtype: object"
     },
     "execution_count": 48,
     "metadata": {},
     "output_type": "execute_result"
    }
   ],
   "source": [
    "df1['Language']"
   ],
   "metadata": {
    "collapsed": false,
    "ExecuteTime": {
     "end_time": "2023-09-27T04:16:40.161276500Z",
     "start_time": "2023-09-27T04:16:40.087673600Z"
    }
   },
   "id": "a87f60c55981c52d"
  },
  {
   "cell_type": "code",
   "execution_count": 56,
   "outputs": [
    {
     "name": "stdout",
     "output_type": "stream",
     "text": [
      "Find the number of spanish: 39\n"
     ]
    }
   ],
   "source": [
    "spanish_lang = (df1['Language'].str.contains('Spanish',case=False)).sum()\n",
    "print('Find the number of spanish:',spanish_lang)"
   ],
   "metadata": {
    "collapsed": false,
    "ExecuteTime": {
     "end_time": "2023-09-27T04:22:31.054387100Z",
     "start_time": "2023-09-27T04:22:31.028197700Z"
    }
   },
   "id": "ccc7e6f426087fb7"
  },
  {
   "cell_type": "markdown",
   "source": [
    "## find the value of Hindi language value"
   ],
   "metadata": {
    "collapsed": false
   },
   "id": "770e159bcb60465e"
  },
  {
   "cell_type": "code",
   "execution_count": 60,
   "outputs": [],
   "source": [
    "hindi_lang = (df1['Language'].str.contains('Hindi',case = False)).sum()"
   ],
   "metadata": {
    "collapsed": false,
    "ExecuteTime": {
     "end_time": "2023-09-27T04:25:28.300310200Z",
     "start_time": "2023-09-27T04:25:28.287068100Z"
    }
   },
   "id": "8b9e2345b88a7e7"
  },
  {
   "cell_type": "code",
   "execution_count": 61,
   "outputs": [
    {
     "name": "stdout",
     "output_type": "stream",
     "text": [
      "Find the number of spanish: 35\n"
     ]
    }
   ],
   "source": [
    "print('Find the number of hindi:',hindi_lang)"
   ],
   "metadata": {
    "collapsed": false,
    "ExecuteTime": {
     "end_time": "2023-09-27T04:25:28.875392400Z",
     "start_time": "2023-09-27T04:25:28.861035400Z"
    }
   },
   "id": "df8b1f6aebf7e211"
  },
  {
   "cell_type": "markdown",
   "source": [
    "## Find the value of Turkish language value"
   ],
   "metadata": {
    "collapsed": false
   },
   "id": "8ee8c4076fcd35eb"
  },
  {
   "cell_type": "code",
   "execution_count": 62,
   "outputs": [],
   "source": [
    "turkish_lang = (df1['Language'].str.contains('Turkish',case= False)).sum()"
   ],
   "metadata": {
    "collapsed": false,
    "ExecuteTime": {
     "end_time": "2023-09-27T04:27:28.025455800Z",
     "start_time": "2023-09-27T04:27:27.987185900Z"
    }
   },
   "id": "50e8cf8998e0f94a"
  },
  {
   "cell_type": "code",
   "execution_count": 63,
   "outputs": [
    {
     "name": "stdout",
     "output_type": "stream",
     "text": [
      "5\n"
     ]
    }
   ],
   "source": [
    "print(turkish_lang)"
   ],
   "metadata": {
    "collapsed": false,
    "ExecuteTime": {
     "end_time": "2023-09-27T04:27:34.353114200Z",
     "start_time": "2023-09-27T04:27:34.316102700Z"
    }
   },
   "id": "285dfc43d6da5ba5"
  },
  {
   "cell_type": "code",
   "execution_count": null,
   "outputs": [],
   "source": [],
   "metadata": {
    "collapsed": false
   },
   "id": "1b9afcda22123f1c"
  }
 ],
 "metadata": {
  "kernelspec": {
   "display_name": "Python 3",
   "language": "python",
   "name": "python3"
  },
  "language_info": {
   "codemirror_mode": {
    "name": "ipython",
    "version": 2
   },
   "file_extension": ".py",
   "mimetype": "text/x-python",
   "name": "python",
   "nbconvert_exporter": "python",
   "pygments_lexer": "ipython2",
   "version": "2.7.6"
  }
 },
 "nbformat": 4,
 "nbformat_minor": 5
}
