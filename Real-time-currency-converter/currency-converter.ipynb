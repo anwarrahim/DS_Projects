{
 "cells": [
  {
   "cell_type": "code",
   "execution_count": 1,
   "id": "initial_id",
   "metadata": {
    "collapsed": true,
    "ExecuteTime": {
     "end_time": "2023-09-11T17:16:29.429008400Z",
     "start_time": "2023-09-11T17:16:18.140124400Z"
    }
   },
   "outputs": [
    {
     "name": "stdout",
     "output_type": "stream",
     "text": [
      "Collecting forex_python\n",
      "  Downloading forex_python-1.8-py3-none-any.whl (8.2 kB)\n",
      "Requirement already satisfied: requests in c:\\users\\anwar\\anaconda3\\envs\\ds_projects\\lib\\site-packages (from forex_python) (2.31.0)\n",
      "Collecting simplejson (from forex_python)\n",
      "  Downloading simplejson-3.19.1-cp311-cp311-win_amd64.whl (75 kB)\n",
      "     ---------------------------------------- 0.0/75.3 kB ? eta -:--:--\n",
      "     ---------------- ----------------------- 30.7/75.3 kB 1.4 MB/s eta 0:00:01\n",
      "     ------------------------------------ - 71.7/75.3 kB 787.7 kB/s eta 0:00:01\n",
      "     -------------------------------------- 75.3/75.3 kB 700.0 kB/s eta 0:00:00\n",
      "Requirement already satisfied: charset-normalizer<4,>=2 in c:\\users\\anwar\\anaconda3\\envs\\ds_projects\\lib\\site-packages (from requests->forex_python) (2.0.4)\n",
      "Requirement already satisfied: idna<4,>=2.5 in c:\\users\\anwar\\anaconda3\\envs\\ds_projects\\lib\\site-packages (from requests->forex_python) (3.4)\n",
      "Requirement already satisfied: urllib3<3,>=1.21.1 in c:\\users\\anwar\\anaconda3\\envs\\ds_projects\\lib\\site-packages (from requests->forex_python) (1.26.16)\n",
      "Requirement already satisfied: certifi>=2017.4.17 in c:\\users\\anwar\\anaconda3\\envs\\ds_projects\\lib\\site-packages (from requests->forex_python) (2023.7.22)\n",
      "Installing collected packages: simplejson, forex_python\n",
      "Successfully installed forex_python-1.8 simplejson-3.19.1\n",
      "Note: you may need to restart the kernel to use updated packages.\n"
     ]
    }
   ],
   "source": [
    "pip install forex_python"
   ]
  },
  {
   "cell_type": "code",
   "execution_count": 3,
   "outputs": [
    {
     "ename": "ValueError",
     "evalue": "invalid literal for int() with base 10: ''",
     "output_type": "error",
     "traceback": [
      "\u001B[1;31m---------------------------------------------------------------------------\u001B[0m",
      "\u001B[1;31mValueError\u001B[0m                                Traceback (most recent call last)",
      "Cell \u001B[1;32mIn[3], line 3\u001B[0m\n\u001B[0;32m      1\u001B[0m \u001B[38;5;28;01mfrom\u001B[39;00m \u001B[38;5;21;01mforex_python\u001B[39;00m\u001B[38;5;21;01m.\u001B[39;00m\u001B[38;5;21;01mconverter\u001B[39;00m \u001B[38;5;28;01mimport\u001B[39;00m CurrencyRates\n\u001B[0;32m      2\u001B[0m c \u001B[38;5;241m=\u001B[39m CurrencyRates() \u001B[38;5;66;03m# create object\u001B[39;00m\n\u001B[1;32m----> 3\u001B[0m amount \u001B[38;5;241m=\u001B[39m \u001B[38;5;28mint\u001B[39m(\u001B[38;5;28minput\u001B[39m(\u001B[38;5;124m\"\u001B[39m\u001B[38;5;124mEnter amount: \u001B[39m\u001B[38;5;124m\"\u001B[39m))\n\u001B[0;32m      4\u001B[0m from_currency \u001B[38;5;241m=\u001B[39m \u001B[38;5;28minput\u001B[39m(\u001B[38;5;124m\"\u001B[39m\u001B[38;5;124mFrom Currency: \u001B[39m\u001B[38;5;124m\"\u001B[39m)\u001B[38;5;241m.\u001B[39mupper()\n\u001B[0;32m      5\u001B[0m to_currency \u001B[38;5;241m=\u001B[39m \u001B[38;5;28minput\u001B[39m(\u001B[38;5;124m\"\u001B[39m\u001B[38;5;124mTo Currency: \u001B[39m\u001B[38;5;124m\"\u001B[39m)\u001B[38;5;241m.\u001B[39mupper()\n",
      "\u001B[1;31mValueError\u001B[0m: invalid literal for int() with base 10: ''"
     ]
    }
   ],
   "source": [
    "from forex_python.converter import CurrencyRates\n",
    "c = CurrencyRates() # create object\n",
    "amount = int(input(\"Enter amount: \"))\n",
    "from_currency = input(\"From Currency: \").upper()\n",
    "to_currency = input(\"To Currency: \").upper()\n",
    "print(from_currency, \"To\", to_currency, amount)\n",
    "result = c.convert(from_currency, to_currency, amount)\n",
    "print(result)\n",
    "\n",
    "#anwarrahim.github.io"
   ],
   "metadata": {
    "collapsed": false,
    "ExecuteTime": {
     "end_time": "2023-09-11T17:38:33.952035Z",
     "start_time": "2023-09-11T17:38:24.611581100Z"
    }
   },
   "id": "cb747f5410267e8e"
  },
  {
   "cell_type": "code",
   "execution_count": null,
   "outputs": [],
   "source": [],
   "metadata": {
    "collapsed": false
   },
   "id": "ff7dfec694f127ce"
  }
 ],
 "metadata": {
  "kernelspec": {
   "display_name": "Python 3",
   "language": "python",
   "name": "python3"
  },
  "language_info": {
   "codemirror_mode": {
    "name": "ipython",
    "version": 2
   },
   "file_extension": ".py",
   "mimetype": "text/x-python",
   "name": "python",
   "nbconvert_exporter": "python",
   "pygments_lexer": "ipython2",
   "version": "2.7.6"
  }
 },
 "nbformat": 4,
 "nbformat_minor": 5
}
